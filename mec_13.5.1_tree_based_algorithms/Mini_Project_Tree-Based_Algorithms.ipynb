{
 "cells": [
  {
   "cell_type": "markdown",
   "metadata": {},
   "source": [
    "# Mini Project: Tree-Based Algorithms"
   ]
  },
  {
   "cell_type": "markdown",
   "metadata": {},
   "source": [
    "## The \"German Credit\" Dataset"
   ]
  },
  {
   "cell_type": "markdown",
   "metadata": {},
   "source": [
    "### Dataset Details"
   ]
  },
  {
   "cell_type": "markdown",
   "metadata": {},
   "source": [
    "This dataset has two classes (these would be considered labels in Machine Learning terms) to describe the worthiness of a personal loan: \"Good\" or \"Bad\". There are predictors related to attributes, such as: checking account status, duration, credit history, purpose of the loan, amount of the loan, savings accounts or bonds, employment duration, installment rate in percentage of disposable income, personal information, other debtors/guarantors, residence duration, property, age, other installment plans, housing, number of existing credits, job information, number of people being liable to provide maintenance for, telephone, and foreign worker status.\n",
    "\n",
    "Many of these predictors are discrete and have been expanded into several 0/1 indicator variables (a.k.a. they have been one-hot-encoded).\n",
    "\n",
    "This dataset has been kindly provided by Professor Dr. Hans Hofmann of the University of Hamburg, and can also be found on the UCI Machine Learning Repository."
   ]
  },
  {
   "cell_type": "markdown",
   "metadata": {},
   "source": [
    "\n",
    "\n",
    "\n"
   ]
  },
  {
   "cell_type": "markdown",
   "metadata": {},
   "source": [
    "## Decision Trees"
   ]
  },
  {
   "cell_type": "markdown",
   "metadata": {},
   "source": [
    " As we have learned in the previous lectures, Decision Trees as a family of algorithms (irrespective to the particular implementation) are powerful algorithms that can produce models with a predictive accuracy higher than that produced by linear models, such as Linear or Logistic Regression. Primarily, this is due to the fact the DT's can model nonlinear relationships, and also have a number of tuning paramters, that allow for the practicioner to achieve the best possible model. An added bonus is the ability to visualize the trained Decision Tree model, which allows for some insight into how the model has produced the predictions that it has. One caveat here, to keep in mind, is that sometimes, due to the size of the dataset (both in the sense of the number of records, as well as the number of features), the visualization might prove to be very large and complex, increasing the difficulty of interpretation."
   ]
  },
  {
   "cell_type": "markdown",
   "metadata": {},
   "source": [
    "To give you a very good example of how Decision Trees can be visualized and interpreted, we would strongly recommend that, before continuing on with solving the problems in this Mini Project, you take the time to read this fanstastic, detailed and informative blog post: http://explained.ai/decision-tree-viz/index.html"
   ]
  },
  {
   "cell_type": "markdown",
   "metadata": {},
   "source": [
    "## Building Your First Decision Tree Model"
   ]
  },
  {
   "cell_type": "markdown",
   "metadata": {},
   "source": [
    "So, now it's time to jump straight into the heart of the matter. Your first task, is to build a Decision Tree model, using the aforementioned \"German Credit\" dataset, which contains 1,000 records, and 62 columns (one of them presents the labels, and the other 61 present the potential features for the model.)"
   ]
  },
  {
   "cell_type": "markdown",
   "metadata": {},
   "source": [
    "For this task, you will be using the scikit-learn library, which comes already pre-installed with the Anaconda Python distribution. In case you're not using that, you can easily install it using pip."
   ]
  },
  {
   "cell_type": "markdown",
   "metadata": {},
   "source": [
    "Before embarking on creating your first model, we would strongly encourage you to read the short tutorial for Decision Trees in scikit-learn (http://scikit-learn.org/stable/modules/tree.html), and then dive a bit deeper into the documentation of the algorithm itself (http://scikit-learn.org/stable/modules/generated/sklearn.tree.DecisionTreeClassifier.html). "
   ]
  },
  {
   "cell_type": "markdown",
   "metadata": {},
   "source": [
    "Also, since you want to be able to present the results of your model, we suggest you take a look at the tutorial for accuracy metrics for classification models (http://scikit-learn.org/stable/modules/model_evaluation.html#classification-report) as well as the more detailed documentation (http://scikit-learn.org/stable/modules/generated/sklearn.metrics.classification_report.html).\n",
    "\n",
    "Finally, an *amazing* resource that explains the various classification model accuracy metrics, as well as the relationships between them, can be found on Wikipedia: https://en.wikipedia.org/wiki/Confusion_matrix"
   ]
  },
  {
   "cell_type": "markdown",
   "metadata": {},
   "source": [
    "(Note: as you've already learned in the Logistic Regression mini project, a standard practice in Machine Learning for achieving the best possible result when training a model is to use hyperparameter tuning, through Grid Search and k-fold Cross Validation. We strongly encourage you to use it here as well, not just because it's standard practice, but also becuase it's not going to be computationally to intensive, due to the size of the dataset that you're working with. Our suggestion here is that you split the data into 70% training, and 30% testing. Then, do the hyperparameter tuning and Cross Validation on the training set, and afterwards to a final test on the testing set.)"
   ]
  },
  {
   "cell_type": "markdown",
   "metadata": {},
   "source": [
    "### Now we pass the torch onto you! You can start building your first Decision Tree model! :)"
   ]
  },
  {
   "cell_type": "code",
   "execution_count": 1,
   "metadata": {},
   "outputs": [],
   "source": [
    "import pandas as pd\n",
    "from sklearn.tree import DecisionTreeClassifier\n",
    "from sklearn.metrics import classification_report\n",
    "from sklearn.model_selection import train_test_split\n",
    "from sklearn.model_selection import GridSearchCV"
   ]
  },
  {
   "cell_type": "code",
   "execution_count": 2,
   "metadata": {},
   "outputs": [
    {
     "data": {
      "text/html": [
       "<div>\n",
       "<style scoped>\n",
       "    .dataframe tbody tr th:only-of-type {\n",
       "        vertical-align: middle;\n",
       "    }\n",
       "\n",
       "    .dataframe tbody tr th {\n",
       "        vertical-align: top;\n",
       "    }\n",
       "\n",
       "    .dataframe thead th {\n",
       "        text-align: right;\n",
       "    }\n",
       "</style>\n",
       "<table border=\"1\" class=\"dataframe\">\n",
       "  <thead>\n",
       "    <tr style=\"text-align: right;\">\n",
       "      <th></th>\n",
       "      <th>Duration</th>\n",
       "      <th>Amount</th>\n",
       "      <th>InstallmentRatePercentage</th>\n",
       "      <th>ResidenceDuration</th>\n",
       "      <th>Age</th>\n",
       "      <th>NumberExistingCredits</th>\n",
       "      <th>NumberPeopleMaintenance</th>\n",
       "      <th>Telephone</th>\n",
       "      <th>ForeignWorker</th>\n",
       "      <th>Class</th>\n",
       "      <th>...</th>\n",
       "      <th>OtherInstallmentPlans.Bank</th>\n",
       "      <th>OtherInstallmentPlans.Stores</th>\n",
       "      <th>OtherInstallmentPlans.None</th>\n",
       "      <th>Housing.Rent</th>\n",
       "      <th>Housing.Own</th>\n",
       "      <th>Housing.ForFree</th>\n",
       "      <th>Job.UnemployedUnskilled</th>\n",
       "      <th>Job.UnskilledResident</th>\n",
       "      <th>Job.SkilledEmployee</th>\n",
       "      <th>Job.Management.SelfEmp.HighlyQualified</th>\n",
       "    </tr>\n",
       "  </thead>\n",
       "  <tbody>\n",
       "    <tr>\n",
       "      <th>0</th>\n",
       "      <td>6</td>\n",
       "      <td>1169</td>\n",
       "      <td>4</td>\n",
       "      <td>4</td>\n",
       "      <td>67</td>\n",
       "      <td>2</td>\n",
       "      <td>1</td>\n",
       "      <td>0</td>\n",
       "      <td>1</td>\n",
       "      <td>Good</td>\n",
       "      <td>...</td>\n",
       "      <td>0</td>\n",
       "      <td>0</td>\n",
       "      <td>1</td>\n",
       "      <td>0</td>\n",
       "      <td>1</td>\n",
       "      <td>0</td>\n",
       "      <td>0</td>\n",
       "      <td>0</td>\n",
       "      <td>1</td>\n",
       "      <td>0</td>\n",
       "    </tr>\n",
       "    <tr>\n",
       "      <th>1</th>\n",
       "      <td>48</td>\n",
       "      <td>5951</td>\n",
       "      <td>2</td>\n",
       "      <td>2</td>\n",
       "      <td>22</td>\n",
       "      <td>1</td>\n",
       "      <td>1</td>\n",
       "      <td>1</td>\n",
       "      <td>1</td>\n",
       "      <td>Bad</td>\n",
       "      <td>...</td>\n",
       "      <td>0</td>\n",
       "      <td>0</td>\n",
       "      <td>1</td>\n",
       "      <td>0</td>\n",
       "      <td>1</td>\n",
       "      <td>0</td>\n",
       "      <td>0</td>\n",
       "      <td>0</td>\n",
       "      <td>1</td>\n",
       "      <td>0</td>\n",
       "    </tr>\n",
       "    <tr>\n",
       "      <th>2</th>\n",
       "      <td>12</td>\n",
       "      <td>2096</td>\n",
       "      <td>2</td>\n",
       "      <td>3</td>\n",
       "      <td>49</td>\n",
       "      <td>1</td>\n",
       "      <td>2</td>\n",
       "      <td>1</td>\n",
       "      <td>1</td>\n",
       "      <td>Good</td>\n",
       "      <td>...</td>\n",
       "      <td>0</td>\n",
       "      <td>0</td>\n",
       "      <td>1</td>\n",
       "      <td>0</td>\n",
       "      <td>1</td>\n",
       "      <td>0</td>\n",
       "      <td>0</td>\n",
       "      <td>1</td>\n",
       "      <td>0</td>\n",
       "      <td>0</td>\n",
       "    </tr>\n",
       "    <tr>\n",
       "      <th>3</th>\n",
       "      <td>42</td>\n",
       "      <td>7882</td>\n",
       "      <td>2</td>\n",
       "      <td>4</td>\n",
       "      <td>45</td>\n",
       "      <td>1</td>\n",
       "      <td>2</td>\n",
       "      <td>1</td>\n",
       "      <td>1</td>\n",
       "      <td>Good</td>\n",
       "      <td>...</td>\n",
       "      <td>0</td>\n",
       "      <td>0</td>\n",
       "      <td>1</td>\n",
       "      <td>0</td>\n",
       "      <td>0</td>\n",
       "      <td>1</td>\n",
       "      <td>0</td>\n",
       "      <td>0</td>\n",
       "      <td>1</td>\n",
       "      <td>0</td>\n",
       "    </tr>\n",
       "    <tr>\n",
       "      <th>4</th>\n",
       "      <td>24</td>\n",
       "      <td>4870</td>\n",
       "      <td>3</td>\n",
       "      <td>4</td>\n",
       "      <td>53</td>\n",
       "      <td>2</td>\n",
       "      <td>2</td>\n",
       "      <td>1</td>\n",
       "      <td>1</td>\n",
       "      <td>Bad</td>\n",
       "      <td>...</td>\n",
       "      <td>0</td>\n",
       "      <td>0</td>\n",
       "      <td>1</td>\n",
       "      <td>0</td>\n",
       "      <td>0</td>\n",
       "      <td>1</td>\n",
       "      <td>0</td>\n",
       "      <td>0</td>\n",
       "      <td>1</td>\n",
       "      <td>0</td>\n",
       "    </tr>\n",
       "  </tbody>\n",
       "</table>\n",
       "<p>5 rows × 62 columns</p>\n",
       "</div>"
      ],
      "text/plain": [
       "   Duration  Amount  InstallmentRatePercentage  ResidenceDuration  Age  \\\n",
       "0         6    1169                          4                  4   67   \n",
       "1        48    5951                          2                  2   22   \n",
       "2        12    2096                          2                  3   49   \n",
       "3        42    7882                          2                  4   45   \n",
       "4        24    4870                          3                  4   53   \n",
       "\n",
       "   NumberExistingCredits  NumberPeopleMaintenance  Telephone  ForeignWorker  \\\n",
       "0                      2                        1          0              1   \n",
       "1                      1                        1          1              1   \n",
       "2                      1                        2          1              1   \n",
       "3                      1                        2          1              1   \n",
       "4                      2                        2          1              1   \n",
       "\n",
       "  Class  ...  OtherInstallmentPlans.Bank  OtherInstallmentPlans.Stores  \\\n",
       "0  Good  ...                           0                             0   \n",
       "1   Bad  ...                           0                             0   \n",
       "2  Good  ...                           0                             0   \n",
       "3  Good  ...                           0                             0   \n",
       "4   Bad  ...                           0                             0   \n",
       "\n",
       "   OtherInstallmentPlans.None  Housing.Rent  Housing.Own  Housing.ForFree  \\\n",
       "0                           1             0            1                0   \n",
       "1                           1             0            1                0   \n",
       "2                           1             0            1                0   \n",
       "3                           1             0            0                1   \n",
       "4                           1             0            0                1   \n",
       "\n",
       "   Job.UnemployedUnskilled  Job.UnskilledResident  Job.SkilledEmployee  \\\n",
       "0                        0                      0                    1   \n",
       "1                        0                      0                    1   \n",
       "2                        0                      1                    0   \n",
       "3                        0                      0                    1   \n",
       "4                        0                      0                    1   \n",
       "\n",
       "   Job.Management.SelfEmp.HighlyQualified  \n",
       "0                                       0  \n",
       "1                                       0  \n",
       "2                                       0  \n",
       "3                                       0  \n",
       "4                                       0  \n",
       "\n",
       "[5 rows x 62 columns]"
      ]
     },
     "execution_count": 2,
     "metadata": {},
     "output_type": "execute_result"
    }
   ],
   "source": [
    "# Your code here! :)\n",
    "\n",
    "# importing the data\n",
    "df = pd.read_csv(\"GermanCredit.csv\")\n",
    "df.head()"
   ]
  },
  {
   "cell_type": "code",
   "execution_count": 3,
   "metadata": {},
   "outputs": [
    {
     "name": "stdout",
     "output_type": "stream",
     "text": [
      "Accuracy of a single tree (defualt parameters): 0.6966666666666667\n",
      "Tree Depth: 16\n",
      "number of leaves: 125\n"
     ]
    }
   ],
   "source": [
    "from sklearn.metrics import accuracy_score\n",
    "\n",
    "y_labels = df[\"Class\"].apply(lambda label: 1 if label==\"Good\" else 0).values\n",
    "\n",
    "features = [feature for feature in df.columns if feature!=\"Class\"]\n",
    "X_features = df[features].values\n",
    "\n",
    "Xlr, Xtestlr, ylr, ytestlr = train_test_split(X_features, y_labels, random_state=5, test_size=0.30)\n",
    "\n",
    "clf = DecisionTreeClassifier()\n",
    "clf = clf.fit(Xlr, ylr)\n",
    "\n",
    "# Print the accuracy from the testing data.\n",
    "print(\"Accuracy of a single tree (defualt parameters):\", accuracy_score(clf.predict(Xtestlr), ytestlr))\n",
    "\n",
    "print(\"Tree Depth:\", clf.get_depth())\n",
    "print(\"number of leaves:\", clf.get_n_leaves())"
   ]
  },
  {
   "cell_type": "markdown",
   "metadata": {},
   "source": [
    "### Training an ensemble of trees and measuring the average accuracy\n",
    "\n",
    "Here, I borrow the similar function from the Logisitic Regression miniproject."
   ]
  },
  {
   "cell_type": "code",
   "execution_count": 4,
   "metadata": {},
   "outputs": [],
   "source": [
    "from sklearn.model_selection import KFold\n",
    "\n",
    "def cv_score(clf, x, y, score_func=accuracy_score):\n",
    "    result = 0\n",
    "    nfold = 5\n",
    "    for train, test in KFold(nfold).split(x): # split data into train/test groups, 5 times\n",
    "        clf.fit(x[train], y[train]) # fit\n",
    "        result += score_func(clf.predict(x[test]), y[test]) # evaluate score function on held-out data\n",
    "    return result / nfold # average"
   ]
  },
  {
   "cell_type": "code",
   "execution_count": 5,
   "metadata": {},
   "outputs": [
    {
     "name": "stdout",
     "output_type": "stream",
     "text": [
      "Average score:  0.6971428571428572\n"
     ]
    }
   ],
   "source": [
    "clf = DecisionTreeClassifier()\n",
    "score = cv_score(clf, Xlr, ylr)\n",
    "print(\"Average score: \", score)"
   ]
  },
  {
   "cell_type": "markdown",
   "metadata": {},
   "source": [
    "# Tuning the model parameters"
   ]
  },
  {
   "cell_type": "code",
   "execution_count": 6,
   "metadata": {},
   "outputs": [
    {
     "name": "stdout",
     "output_type": "stream",
     "text": [
      "progress 10/50\n",
      "progress 20/50\n",
      "progress 30/50\n",
      "progress 40/50\n",
      "------------\n",
      "best max_depth:  10\n",
      "best min_samples_split:  2\n",
      "best min_samples_leaf:  9\n",
      "best max_features:  log2\n",
      "best score:  0.7471428571428571\n",
      "------------\n",
      "Classification score using the test sample:  0.6799999999999999\n"
     ]
    }
   ],
   "source": [
    "best_C = None\n",
    "best_score = 0\n",
    "\n",
    "# finding the best combination of parametrs by brute-forcing\n",
    "for max_depth in range(1, 50):\n",
    "    \n",
    "    if max_depth%10==0:\n",
    "        print(\"progress %d/50\"%max_depth)\n",
    "        \n",
    "    for min_samples_split in range(2,20):\n",
    "        for min_samples_leaf in range(1,20):\n",
    "            for max_features in [None, \"sqrt\", \"log2\"] :\n",
    "                clf = DecisionTreeClassifier(max_depth=max_depth, \n",
    "                                             min_samples_split=min_samples_split, \n",
    "                                             min_samples_leaf=min_samples_leaf, \n",
    "                                             max_features=max_features)\n",
    "                score = cv_score(clf, Xlr, ylr)\n",
    "                if score > best_score:\n",
    "                    best_params = [max_depth, min_samples_split, min_samples_leaf, max_features]\n",
    "                    best_score = score\n",
    "                    \n",
    "\n",
    "print(\"------------\")\n",
    "print(\"best max_depth: \", best_params[0])\n",
    "print(\"best min_samples_split: \", best_params[1])\n",
    "print(\"best min_samples_leaf: \", best_params[2])\n",
    "print(\"best max_features: \", best_params[3])\n",
    "print(\"best score: \", best_score)    \n",
    "\n",
    "print(\"------------\")\n",
    "clf_best = DecisionTreeClassifier(max_depth=best_params[0], \n",
    "                             min_samples_split=best_params[1], \n",
    "                             min_samples_leaf=best_params[2], \n",
    "                             max_features=best_params[3])\n",
    "clf_best.fit(Xlr, ylr)\n",
    "score = cv_score(clf_best, Xtestlr, ytestlr)\n",
    "print(\"Classification score using the test sample: \", score)"
   ]
  },
  {
   "cell_type": "code",
   "execution_count": 7,
   "metadata": {},
   "outputs": [],
   "source": [
    "from dtreeviz.trees import *\n",
    "\n",
    "\n",
    "viz = dtreeviz(clf_best,\n",
    "                   Xlr,\n",
    "                   ylr,\n",
    "                   target_name='Class',\n",
    "                   feature_names=features,\n",
    "                   orientation=\"TD\",\n",
    "                   class_names=[1,0],\n",
    "                   fancy=True,\n",
    "                   X=None,\n",
    "                   label_fontsize=12,\n",
    "                   ticks_fontsize=8,\n",
    "                   fontname=\"Arial\")\n",
    "\n",
    "# Here, we save the output in a file to load it below in the notebook\n",
    "viz.save(\"./TreeViz.svg\")"
   ]
  },
  {
   "cell_type": "markdown",
   "metadata": {},
   "source": [
    "<img src=\"./TreeViz.svg\" style=\"width: 1000px\">\n"
   ]
  },
  {
   "cell_type": "markdown",
   "metadata": {},
   "source": [
    "### GridSearch method to optimize DT"
   ]
  },
  {
   "cell_type": "code",
   "execution_count": 9,
   "metadata": {},
   "outputs": [
    {
     "name": "stdout",
     "output_type": "stream",
     "text": [
      "Best parameter found by grid search:\n",
      "{'max_depth': 30, 'max_features': 'sqrt', 'min_samples_leaf': 19, 'min_samples_split': 4}\n",
      "training average accuracy (5-fold):  0.6971428571428572\n",
      "test accuracy:  0.7133333333333334\n"
     ]
    }
   ],
   "source": [
    "from sklearn.model_selection import GridSearchCV\n",
    "\n",
    "param_grid = {\n",
    "              \"max_depth\": range(10, 100, 10),\n",
    "              \"min_samples_split\": range(2,20,2),\n",
    "              \"min_samples_leaf\": range(1,20,2),\n",
    "              \"max_features\": [None, \"sqrt\", \"log2\"]\n",
    "             }\n",
    "\n",
    "\n",
    "clf_best = GridSearchCV(DecisionTreeClassifier(), param_grid, cv=5)\n",
    "clf_best.fit(Xlr, ylr)\n",
    "\n",
    "print(\"Best parameter found by grid search:\")\n",
    "print(clf_best.best_params_)\n",
    "\n",
    "print(\"training average accuracy (5-fold): \", cv_score(clf_best, Xlr, ylr))\n",
    "\n",
    "test_accuracy = accuracy_score(clf_best.predict(Xtestlr), ytestlr)\n",
    "print(\"test accuracy: \", test_accuracy)\n",
    "\n",
    "# As expected, although the best hyper parameter that we found based on GridSearch are different than \n",
    "# those we found through our manual search, the final scores on the test set seem to be the same"
   ]
  },
  {
   "cell_type": "markdown",
   "metadata": {},
   "source": [
    "### After you've built the best model you can, now it's time to visualize it!"
   ]
  },
  {
   "cell_type": "markdown",
   "metadata": {},
   "source": [
    "Rememeber that amazing blog post from a few paragraphs ago, that demonstrated how to visualize and interpret the results of your Decision Tree model. We've seen that this can perform very well, but let's see how it does on the \"German Credit\" dataset that we're working on, due to it being a bit larger than the one used by the blog authors."
   ]
  },
  {
   "cell_type": "markdown",
   "metadata": {},
   "source": [
    "First, we're going to need to install their package. If you're using Anaconda, this can be done easily by running:"
   ]
  },
  {
   "cell_type": "code",
   "execution_count": 10,
   "metadata": {},
   "outputs": [],
   "source": [
    "# ! pip install dtreeviz"
   ]
  },
  {
   "cell_type": "markdown",
   "metadata": {},
   "source": [
    "If for any reason this way of installing doesn't work for you straight out of the box, please refer to the more detailed documentation here: https://github.com/parrt/dtreeviz"
   ]
  },
  {
   "cell_type": "markdown",
   "metadata": {},
   "source": [
    "Now you're ready to visualize your Decision Tree model! Please feel free to use the blog post for guidance and inspiration!"
   ]
  },
  {
   "cell_type": "code",
   "execution_count": 12,
   "metadata": {},
   "outputs": [],
   "source": [
    "# Your code here! :)\n",
    "\n",
    "best_params = clf_best.best_params_\n",
    "\n",
    "clf_best = DecisionTreeClassifier(max_depth=best_params[\"max_depth\"], \n",
    "                             min_samples_split=best_params[\"min_samples_split\"], \n",
    "                             min_samples_leaf=best_params[\"min_samples_leaf\"], \n",
    "                             max_features=best_params[\"max_features\"])\n",
    "clf_best.fit(Xlr, ylr)\n",
    "\n",
    "from dtreeviz.trees import *\n",
    "\n",
    "\n",
    "viz = dtreeviz(clf_best,\n",
    "                   Xlr,\n",
    "                   ylr,\n",
    "                   target_name='Class',\n",
    "                   feature_names=features,\n",
    "                   orientation=\"TD\",\n",
    "                   class_names=[1,0],\n",
    "                   fancy=True,\n",
    "                   X=None,\n",
    "                   label_fontsize=12,\n",
    "                   ticks_fontsize=8,\n",
    "                   fontname=\"Arial\")\n",
    "\n",
    "# Here, we save the output in a file to load it below in the notebook\n",
    "viz.save(\"./TreeViz_grid.svg\")"
   ]
  },
  {
   "cell_type": "markdown",
   "metadata": {},
   "source": [
    "### Tree Visualization"
   ]
  },
  {
   "cell_type": "markdown",
   "metadata": {},
   "source": [
    "<img src=\"./TreeViz_grid.svg\" style=\"width: 1000px\">\n"
   ]
  },
  {
   "cell_type": "markdown",
   "metadata": {},
   "source": [
    "## Random Forests"
   ]
  },
  {
   "cell_type": "markdown",
   "metadata": {},
   "source": [
    "As discussed in the lecture videos, Decision Tree algorithms also have certain undesireable properties. Mainly the have low bias, which is good, but tend to have high variance - which is *not* so good (more about this problem here: https://en.wikipedia.org/wiki/Bias%E2%80%93variance_tradeoff)."
   ]
  },
  {
   "cell_type": "markdown",
   "metadata": {},
   "source": [
    "Noticing these problems, the late Professor Leo Breiman, in 2001, developed the Random Forests algorithm, which mitigates these problems, while at the same time providing even higher predictive accuracy than the majority of Decision Tree algorithm implementations. While the curriculum contains two excellent lectures on Random Forests, if you're interested, you can dive into the original paper here: https://link.springer.com/content/pdf/10.1023%2FA%3A1010933404324.pdf."
   ]
  },
  {
   "cell_type": "markdown",
   "metadata": {},
   "source": [
    "In the next part of this assignment, your are going to use the same \"German Credit\" dataset to train, tune, and measure the performance of a Random Forests model. You will also see certain functionalities that this model, even though it's a bit of a \"black box\", provides for some degree of interpretability."
   ]
  },
  {
   "cell_type": "markdown",
   "metadata": {},
   "source": [
    "First, let's build a Random Forests model, using the same best practices that you've used for your Decision Trees model. You can reuse the things you've already imported there, so no need to do any re-imports, new train/test splits, or loading up the data again."
   ]
  },
  {
   "cell_type": "code",
   "execution_count": 13,
   "metadata": {},
   "outputs": [],
   "source": [
    "from sklearn.ensemble import RandomForestClassifier"
   ]
  },
  {
   "cell_type": "code",
   "execution_count": 14,
   "metadata": {},
   "outputs": [
    {
     "name": "stdout",
     "output_type": "stream",
     "text": [
      "Average score:  0.7442857142857143\n"
     ]
    }
   ],
   "source": [
    "# Your code here! :)\n",
    "\n",
    "forest = RandomForestClassifier()\n",
    "score = cv_score(forest, Xlr, ylr)\n",
    "print(\"Average score: \", score)\n",
    "\n",
    "# This score seems to be much better than our original score using a single decesion tree (~0.71)"
   ]
  },
  {
   "cell_type": "markdown",
   "metadata": {},
   "source": [
    "## Optimizing the RF hyperparameters"
   ]
  },
  {
   "cell_type": "code",
   "execution_count": 15,
   "metadata": {
    "scrolled": true
   },
   "outputs": [
    {
     "name": "stdout",
     "output_type": "stream",
     "text": [
      "progress 10/100\n",
      "progress 20/100\n",
      "progress 30/100\n",
      "progress 40/100\n",
      "progress 50/100\n",
      "progress 60/100\n",
      "progress 70/100\n",
      "progress 80/100\n",
      "progress 90/100\n",
      "------------\n",
      "best max_depth:  10\n",
      "best min_samples_split:  18\n",
      "best min_samples_leaf:  1\n",
      "best max_features:  None\n",
      "best max_leaf_nodes:  16\n",
      "best score:  0.7428571428571429\n",
      "------------\n",
      "Classification score using the test sample:  0.7\n"
     ]
    }
   ],
   "source": [
    "best_C = None\n",
    "best_score = 0\n",
    "\n",
    "# finding the best combination of parametrs by brute-forcing\n",
    "for max_depth in range(10, 100, 10):\n",
    "    \n",
    "    #if max_depth%10==0:\n",
    "    print(\"progress %d/100\"%max_depth)\n",
    "        \n",
    "    for min_samples_split in range(2,20,2):\n",
    "        for min_samples_leaf in range(1,20,2):\n",
    "            for max_leaf_nodes in range(2,20,2):\n",
    "                for max_features in [None, \"sqrt\", \"log2\"] :\n",
    "                    clf = DecisionTreeClassifier(max_depth=max_depth, \n",
    "                                             min_samples_split=min_samples_split, \n",
    "                                             min_samples_leaf=min_samples_leaf, \n",
    "                                             max_features=max_features,\n",
    "                                             max_leaf_nodes=max_leaf_nodes)\n",
    "                    score = cv_score(clf, Xlr, ylr)\n",
    "                    if score > best_score:\n",
    "                        best_params = [max_depth, min_samples_split, min_samples_leaf, max_features, max_leaf_nodes]\n",
    "                        best_score = score\n",
    "                    \n",
    "\n",
    "print(\"------------\")\n",
    "print(\"best max_depth: \", best_params[0])\n",
    "print(\"best min_samples_split: \", best_params[1])\n",
    "print(\"best min_samples_leaf: \", best_params[2])\n",
    "print(\"best max_features: \", best_params[3])\n",
    "print(\"best max_leaf_nodes: \", best_params[4])\n",
    "print(\"best score: \", best_score)    \n",
    "\n",
    "print(\"------------\")\n",
    "forest_best = RandomForestClassifier(max_depth=best_params[0], \n",
    "                             min_samples_split=best_params[1], \n",
    "                             min_samples_leaf=best_params[2], \n",
    "                             max_features=best_params[3],\n",
    "                             max_leaf_nodes=best_params[4])\n",
    "forest_best.fit(Xlr, ylr)\n",
    "score = cv_score(clf_best, Xtestlr, ytestlr)\n",
    "print(\"Classification score using the test sample: \", score)"
   ]
  },
  {
   "cell_type": "markdown",
   "metadata": {},
   "source": [
    "### Using GridSearch to tune the RF hyperparameters"
   ]
  },
  {
   "cell_type": "code",
   "execution_count": null,
   "metadata": {},
   "outputs": [],
   "source": [
    "from sklearn.model_selection import GridSearchCV\n",
    "\n",
    "param_grid = {\n",
    "              \"max_depth\": range(10, 100, 10),\n",
    "              \"min_samples_split\": range(2,20,2),\n",
    "              \"min_samples_leaf\": range(1,20,2),\n",
    "              \"max_leaf_nodes\": range(2,20,2),\n",
    "              \"max_features\": [None, \"sqrt\", \"log2\"]\n",
    "             }\n",
    "\n",
    "\n",
    "clf = GridSearchCV(RandomForestClassifier(), param_grid, cv=5)\n",
    "clf.fit(Xlr, ylr)\n",
    "\n",
    "print(\"Best parameter found by grid search:\")\n",
    "print(clf.best_params_)\n",
    "\n",
    "test_accuracy = accuracy_score(clf.predict(Xtestlr), ytestlr)\n",
    "print(\"test accuracy: \", test_accuracy)\n",
    "\n",
    "## Clearly GridSearch implies better accuracy, and exhbits better performance on the test set,\n",
    "## however, the optimized hyperparameters are different than what we found by brute force search"
   ]
  },
  {
   "cell_type": "markdown",
   "metadata": {},
   "source": [
    "As mentioned, there are certain ways to \"peek\" into a model created by the Random Forests algorithm. The first, and most popular one, is the Feature Importance calculation functionality. This allows the ML practitioner to see an ordering of the importance of the features that have contributed the most to the predictive accuracy of the model. \n",
    "\n",
    "You can see how to use this in the scikit-learn documentation (http://scikit-learn.org/stable/modules/generated/sklearn.ensemble.RandomForestClassifier.html#sklearn.ensemble.RandomForestClassifier.feature_importances_). Now, if you tried this, you would just get an ordered table of not directly interpretable numeric values. Thus, it's much more useful to show the feature importance in a visual way. You can see an example of how that's done here: http://scikit-learn.org/stable/auto_examples/ensemble/plot_forest_importances.html#sphx-glr-auto-examples-ensemble-plot-forest-importances-py\n",
    "\n",
    "Now you try! Let's visualize the importance of features from your Random Forests model!"
   ]
  },
  {
   "cell_type": "code",
   "execution_count": null,
   "metadata": {
    "scrolled": false
   },
   "outputs": [],
   "source": [
    "# Your code here\n",
    "\n",
    "best_params = clf.best_params_\n",
    "forest_best = RandomForestClassifier(max_depth=best_params[\"max_depth\"], \n",
    "                             min_samples_split=best_params[\"min_samples_split\"], \n",
    "                             min_samples_leaf=best_params[\"min_samples_leaf\"], \n",
    "                             max_features=best_params[\"max_features\"],\n",
    "                             max_leaf_nodes=best_params[\"max_leaf_nodes\"])   # best forest found by GridSearch\n",
    "forest_best.fit(Xlr, ylr)\n",
    "\n",
    "importances = forest_best.feature_importances_\n",
    "std = np.std([tree.feature_importances_ for tree in forest_best.estimators_],\n",
    "             axis=0)\n",
    "indices = np.argsort(importances)[::-1]\n",
    "\n",
    "# Print the feature ranking\n",
    "print(\"Feature ranking:\")\n",
    "\n",
    "for f in range(Xlr.shape[1]):\n",
    "    print(\"%d. \"%(f+1)+str(features[indices[f]])+\" #%d (%f)\" % (indices[f], importances[indices[f]]))\n",
    "\n",
    "# Plot the impurity-based feature importances of the forest\n",
    "fig, ax = plt.subplots(figsize=(20, 10))\n",
    "# plt.figure()\n",
    "ax.set_title(\"Feature Importances\", fontsize=30)\n",
    "ax.bar(range(1,Xlr.shape[1]+1), importances[indices],\n",
    "        color=\"r\", yerr=std[indices], align=\"center\")\n",
    "ax.set_xlim([-1, Xlr.shape[1]])\n",
    "\n",
    "ax.set_ylabel(\"Feature Importance\", fontsize=20)\n",
    "\n",
    "ax.set_xticks(range(1,len(features)+1))\n",
    "ax.set_xticklabels([features[indices[f]] for f in range(Xlr.shape[1])], rotation=90, fontsize=12)\n",
    "ax.tick_params(top='off', bottom='off')\n",
    "\n",
    "plt.show()\n",
    "\n",
    "# The index of each feature is denoted after the '#' sign"
   ]
  },
  {
   "cell_type": "markdown",
   "metadata": {},
   "source": [
    "A final method for gaining some insight into the inner working of your Random Forests models is a so-called Partial Dependence Plot. The Partial Dependence Plot (PDP or PD plot) shows the marginal effect of a feature on the predicted outcome of a previously fit model. The prediction function is fixed at a few values of the chosen features and averaged over the other features. A partial dependence plot can show if the relationship between the target and a feature is linear, monotonic or more complex. \n",
    "\n",
    "In scikit-learn, PDPs are implemented and available for certain algorithms, but at this point (version 0.20.0) they are not yet implemented for Random Forests. Thankfully, there is an add-on package called **PDPbox** (https://pdpbox.readthedocs.io/en/latest/) which adds this functionality to Random Forests. The package is easy to install through pip."
   ]
  },
  {
   "cell_type": "code",
   "execution_count": null,
   "metadata": {},
   "outputs": [],
   "source": [
    "#! pip install pdpbox"
   ]
  },
  {
   "cell_type": "markdown",
   "metadata": {},
   "source": [
    "While we encourage you to read the documentation for the package (and reading package documentation in general is a good habit to develop), the authors of the package have also written an excellent blog post on how to use it, showing examples on different algorithms from scikit-learn (the Random Forests example is towards the end of the blog post): https://briangriner.github.io/Partial_Dependence_Plots_presentation-BrianGriner-PrincetonPublicLibrary-4.14.18-updated-4.22.18.html"
   ]
  },
  {
   "cell_type": "markdown",
   "metadata": {},
   "source": [
    "So, armed with this new knowledge, feel free to pick a few features, and make a couple of Partial Dependence Plots of your own!"
   ]
  },
  {
   "cell_type": "code",
   "execution_count": null,
   "metadata": {},
   "outputs": [],
   "source": [
    "# Your code here!\n",
    "\n",
    "from sklearn.datasets import make_hastie_10_2\n",
    "from sklearn.ensemble import GradientBoostingClassifier\n",
    "from sklearn.inspection import plot_partial_dependence\n",
    "\n",
    "ranked_features = [features[indices[f]] for f in range(Xlr.shape[1])]\n",
    "plot_partial_dependence(forest_best, Xlr, ranked_features[:12], ranked_features[:12]) \n",
    "\n",
    "plt.subplots_adjust(bottom=0.1, right=1.1, top=1.4, hspace=0.5)  # tight_layout causes overlap with suptitle\n",
    "\n",
    "\n",
    "# Here, the PDPs of 12 most important features are presented"
   ]
  },
  {
   "cell_type": "code",
   "execution_count": null,
   "metadata": {},
   "outputs": [],
   "source": [
    "import pdpbox\n",
    "from pdpbox import pdp\n",
    "\n",
    "pdp_forest = pdp.pdp_interact(forest_best, df, features,['CheckingAccountStatus.none','Duration'])\n",
    "\n",
    "pdp.pdp_interact_plot(pdp_forest, ['CheckingAccountStatus.none','Duration'])"
   ]
  },
  {
   "cell_type": "code",
   "execution_count": null,
   "metadata": {},
   "outputs": [],
   "source": [
    "import pdpbox\n",
    "from pdpbox import pdp\n",
    "\n",
    "pdp_forest = pdp.pdp_interact(forest_best, df, features,['Amount','Duration'])\n",
    "\n",
    "pdp.pdp_interact_plot(pdp_forest, ['Amount','Duration'])\n",
    "\n",
    "# Amount and Durations are amongst important features,\n",
    "# as seen, marginalizing over other featues, if Amount is around 2500 and duration is less than 10, the likelihood \n",
    "# of the loan payback is the largest, and so the candidate most probably to fall into the \"Good\" category."
   ]
  },
  {
   "cell_type": "markdown",
   "metadata": {},
   "source": [
    "## (Optional) Advanced Boosting-Based Algorithms"
   ]
  },
  {
   "cell_type": "markdown",
   "metadata": {},
   "source": [
    "As explained in the video lectures, the next generation of algorithms after Random Forests (that use Bagging, a.k.a. Bootstrap Aggregation) were developed using Boosting, and the first one of these were Gradient Boosted Machines, which are implemented in scikit-learn (http://scikit-learn.org/stable/modules/ensemble.html#gradient-tree-boosting)."
   ]
  },
  {
   "cell_type": "markdown",
   "metadata": {},
   "source": [
    "Still, in recent years, a number of variations on GBMs have been developed by different research amd industry groups, all of them bringing improvements, both in speed, accuracy and functionality to the original Gradient Boosting algorithms.\n",
    "\n",
    "In no order of preference, these are:\n",
    "1. **XGBoost**: https://xgboost.readthedocs.io/en/latest/\n",
    "2. **CatBoost**: https://tech.yandex.com/catboost/\n",
    "3. **LightGBM**: https://lightgbm.readthedocs.io/en/latest/"
   ]
  },
  {
   "cell_type": "markdown",
   "metadata": {},
   "source": [
    "If you're using the Anaconda distribution, these are all very easy to install:"
   ]
  },
  {
   "cell_type": "code",
   "execution_count": null,
   "metadata": {},
   "outputs": [],
   "source": [
    "#! conda install -c anaconda py-xgboost"
   ]
  },
  {
   "cell_type": "code",
   "execution_count": null,
   "metadata": {},
   "outputs": [],
   "source": [
    "#! conda install -c conda-forge catboost"
   ]
  },
  {
   "cell_type": "code",
   "execution_count": null,
   "metadata": {},
   "outputs": [],
   "source": [
    "#! conda install -c conda-forge lightgbm"
   ]
  },
  {
   "cell_type": "markdown",
   "metadata": {},
   "source": [
    "Your task in this optional section of the mini project is to read the documentation of these three libraries, and apply all of them to the \"German Credit\" dataset, just like you did in the case of Decision Trees and Random Forests."
   ]
  },
  {
   "cell_type": "markdown",
   "metadata": {},
   "source": [
    "The final deliverable of this section should be a table (can be a pandas DataFrame) which shows the accuracy of all the five algorthms taught in this mini project in one place."
   ]
  },
  {
   "cell_type": "markdown",
   "metadata": {},
   "source": [
    "Happy modeling! :)"
   ]
  },
  {
   "cell_type": "code",
   "execution_count": null,
   "metadata": {},
   "outputs": [],
   "source": []
  },
  {
   "cell_type": "code",
   "execution_count": null,
   "metadata": {},
   "outputs": [],
   "source": []
  }
 ],
 "metadata": {
  "kernelspec": {
   "display_name": "Python 3",
   "language": "python",
   "name": "python3"
  },
  "language_info": {
   "codemirror_mode": {
    "name": "ipython",
    "version": 3
   },
   "file_extension": ".py",
   "mimetype": "text/x-python",
   "name": "python",
   "nbconvert_exporter": "python",
   "pygments_lexer": "ipython3",
   "version": "3.8.5"
  }
 },
 "nbformat": 4,
 "nbformat_minor": 4
}
