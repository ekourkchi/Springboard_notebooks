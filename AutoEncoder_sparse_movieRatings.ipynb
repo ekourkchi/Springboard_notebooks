{
  "nbformat": 4,
  "nbformat_minor": 0,
  "metadata": {
    "colab": {
      "name": "AutoEncoder_sparse_movieRatings.ipynb",
      "provenance": [],
      "machine_shape": "hm",
      "mount_file_id": "1SevLTeunmnt-x-UGCfuk1x5ZYJk4WAMe",
      "authorship_tag": "ABX9TyN3RwFOzVnITRdCMHKSSBRa",
      "include_colab_link": true
    },
    "kernelspec": {
      "name": "python3",
      "display_name": "Python 3"
    },
    "accelerator": "GPU"
  },
  "cells": [
    {
      "cell_type": "markdown",
      "metadata": {
        "id": "view-in-github",
        "colab_type": "text"
      },
      "source": [
        "<a href=\"https://colab.research.google.com/github/ekourkchi/Springboard_notebooks/blob/master/AutoEncoder_sparse_movieRatings.ipynb\" target=\"_parent\"><img src=\"https://colab.research.google.com/assets/colab-badge.svg\" alt=\"Open In Colab\"/></a>"
      ]
    },
    {
      "cell_type": "code",
      "metadata": {
        "id": "RELC2B7sX18g"
      },
      "source": [
        "from sklearn.feature_extraction.text import TfidfVectorizer\n",
        "import pandas as pd\n",
        "\n",
        "import matplotlib.pyplot as plt\n",
        "import numpy as np\n",
        "import pandas as pd\n",
        "import tensorflow as tf\n",
        "\n",
        "from sklearn.metrics import accuracy_score, precision_score, recall_score\n",
        "from sklearn.model_selection import train_test_split\n",
        "from tensorflow.keras import layers, losses\n",
        "from tensorflow.keras.datasets import fashion_mnist\n",
        "from tensorflow.keras.models import Model"
      ],
      "execution_count": 1,
      "outputs": []
    },
    {
      "cell_type": "code",
      "metadata": {
        "id": "qhNlUs-BYHWo",
        "outputId": "b4b82311-4d03-4c25-d727-9e035e5ee9be",
        "colab": {
          "base_uri": "https://localhost:8080/",
          "height": 255
        }
      },
      "source": [
        "# Load a movie metadata dataset\n",
        "movie_metadata = (pd.read_csv('/content/drive/My Drive/'+ 'movies_metadata.csv', \n",
        "                              low_memory=False)[['original_title', 'overview', 'vote_count']]\n",
        "                    .set_index('original_title')\n",
        "                    .dropna())\n",
        "\n",
        "# Remove the long tail of rarly rated moves\n",
        "movie_metadata = movie_metadata[movie_metadata['vote_count']>10].drop('vote_count', axis=1)\n",
        "\n",
        "print('Shape Movie-Metadata:\\t{}'.format(movie_metadata.shape))\n",
        "movie_metadata.sample(5)"
      ],
      "execution_count": 2,
      "outputs": [
        {
          "output_type": "stream",
          "text": [
            "Shape Movie-Metadata:\t(21604, 1)\n"
          ],
          "name": "stdout"
        },
        {
          "output_type": "execute_result",
          "data": {
            "text/html": [
              "<div>\n",
              "<style scoped>\n",
              "    .dataframe tbody tr th:only-of-type {\n",
              "        vertical-align: middle;\n",
              "    }\n",
              "\n",
              "    .dataframe tbody tr th {\n",
              "        vertical-align: top;\n",
              "    }\n",
              "\n",
              "    .dataframe thead th {\n",
              "        text-align: right;\n",
              "    }\n",
              "</style>\n",
              "<table border=\"1\" class=\"dataframe\">\n",
              "  <thead>\n",
              "    <tr style=\"text-align: right;\">\n",
              "      <th></th>\n",
              "      <th>overview</th>\n",
              "    </tr>\n",
              "    <tr>\n",
              "      <th>original_title</th>\n",
              "      <th></th>\n",
              "    </tr>\n",
              "  </thead>\n",
              "  <tbody>\n",
              "    <tr>\n",
              "      <th>Pandora's Promise</th>\n",
              "      <td>The atomic bomb, the specter of a global nucle...</td>\n",
              "    </tr>\n",
              "    <tr>\n",
              "      <th>Les Aventures extraordinaires d'Adèle Blanc-Sec</th>\n",
              "      <td>An adventure set in the early part of the 20th...</td>\n",
              "    </tr>\n",
              "    <tr>\n",
              "      <th>Hot Shots!</th>\n",
              "      <td>Charlie Sheen, Lloyd Bridges, Cary Elwes, Vale...</td>\n",
              "    </tr>\n",
              "    <tr>\n",
              "      <th>The Belles of St. Trinian's</th>\n",
              "      <td>Story of manic schoolgirls who are more intere...</td>\n",
              "    </tr>\n",
              "    <tr>\n",
              "      <th>No manches Frida</th>\n",
              "      <td>A thief gets a job at a school in order to ret...</td>\n",
              "    </tr>\n",
              "  </tbody>\n",
              "</table>\n",
              "</div>"
            ],
            "text/plain": [
              "                                                                                          overview\n",
              "original_title                                                                                    \n",
              "Pandora's Promise                                The atomic bomb, the specter of a global nucle...\n",
              "Les Aventures extraordinaires d'Adèle Blanc-Sec  An adventure set in the early part of the 20th...\n",
              "Hot Shots!                                       Charlie Sheen, Lloyd Bridges, Cary Elwes, Vale...\n",
              "The Belles of St. Trinian's                      Story of manic schoolgirls who are more intere...\n",
              "No manches Frida                                 A thief gets a job at a school in order to ret..."
            ]
          },
          "metadata": {
            "tags": []
          },
          "execution_count": 2
        }
      ]
    },
    {
      "cell_type": "code",
      "metadata": {
        "id": "n7kVYUE7YsOl"
      },
      "source": [
        "# Create tf-idf matrix for text comparison\n",
        "tfidf = TfidfVectorizer(stop_words='english')\n",
        "tfidf_matrix = tfidf.fit_transform(movie_metadata['overview'])"
      ],
      "execution_count": 3,
      "outputs": []
    },
    {
      "cell_type": "code",
      "metadata": {
        "id": "q-VS4ABfZpJq"
      },
      "source": [
        "tfidf_matrix = tfidf_matrix.toarray()"
      ],
      "execution_count": 4,
      "outputs": []
    },
    {
      "cell_type": "code",
      "metadata": {
        "id": "T5faqygNZs4w",
        "outputId": "ab80a0da-88e9-4fcf-fef0-23a85bb1e647",
        "colab": {
          "base_uri": "https://localhost:8080/"
        }
      },
      "source": [
        "len(movie_metadata)"
      ],
      "execution_count": 5,
      "outputs": [
        {
          "output_type": "execute_result",
          "data": {
            "text/plain": [
              "21604"
            ]
          },
          "metadata": {
            "tags": []
          },
          "execution_count": 5
        }
      ]
    },
    {
      "cell_type": "code",
      "metadata": {
        "id": "rdgOnuR6Zt5j",
        "outputId": "5f872df0-3781-4039-bb51-f68900fbf03f",
        "colab": {
          "base_uri": "https://localhost:8080/"
        }
      },
      "source": [
        "latent_dim = 20 \n",
        "\n",
        "class Autoencoder(Model):\n",
        "    def __init__(self, latent_dim, n_dimension):\n",
        "        super(Autoencoder, self).__init__()\n",
        "        self.latent_dim = latent_dim   \n",
        "        self.n_dimension = n_dimension\n",
        "\n",
        "        encoder = tf.keras.models.Sequential(name='encoder')\n",
        "        # encoder.add(tf.keras.layers.Dense(1000, activation='relu', name='encoder1'))\n",
        "        encoder.add(tf.keras.layers.Dense(latent_dim, activation='relu', name='encoder2'))\n",
        "        self.encoder = encoder\n",
        "#         self.encoder = tf.keras.Sequential([\n",
        "# #           layers.Flatten(),\n",
        "#           layers.Dense(1000, activation='relu', name='dense_1'),\n",
        "#           layers.Dense(latent_dim, activation='relu', name='dense_2'),\n",
        "#         ])\n",
        "\n",
        "        decoder = tf.keras.models.Sequential(name='decoder')\n",
        "        # decoder.add(tf.keras.layers.Dense(20, activation='relu', name='decoder1'))\n",
        "        decoder.add(tf.keras.layers.Dense(n_dimension, activation='sigmoid', name='decoder2'))\n",
        "        self.decoder = decoder\n",
        "#         self.decoder = tf.keras.Sequential([\n",
        "#           layers.Dense(1000, activation='relu', name='dense_3'),\n",
        "#           layers.Dense(n_dimension, activation='relu', name='dense_4'),\n",
        "# #           layers.Reshape((28, 28))\n",
        "#         ])\n",
        "\n",
        "    def call(self, x):\n",
        "        encoded = self.encoder(x)\n",
        "        decoded = self.decoder(encoded)\n",
        "        return decoded\n",
        "    \n",
        "    \n",
        "print(tfidf_matrix.shape)\n",
        "print(len(movie_metadata))"
      ],
      "execution_count": 6,
      "outputs": [
        {
          "output_type": "stream",
          "text": [
            "(21604, 48083)\n",
            "21604\n"
          ],
          "name": "stdout"
        }
      ]
    },
    {
      "cell_type": "code",
      "metadata": {
        "id": "p-etS1bLZxyN",
        "outputId": "1c9aa969-9963-40c9-d739-b89d68bebcc1",
        "colab": {
          "base_uri": "https://localhost:8080/"
        }
      },
      "source": [
        "tfidf_matrix_train = tfidf_matrix[:20000,:]\n",
        "tfidf_matrix_test  = tfidf_matrix[20000:,:]\n",
        "\n",
        "print(tfidf_matrix_train.shape)\n",
        "print(tfidf_matrix_test.shape)"
      ],
      "execution_count": 7,
      "outputs": [
        {
          "output_type": "stream",
          "text": [
            "(20000, 48083)\n",
            "(1604, 48083)\n"
          ],
          "name": "stdout"
        }
      ]
    },
    {
      "cell_type": "code",
      "metadata": {
        "id": "QMnRpM7FaAK8",
        "outputId": "5d33357d-b460-4675-8151-ad364fb8683b",
        "colab": {
          "base_uri": "https://localhost:8080/"
        }
      },
      "source": [
        "n_dim = tfidf_matrix_test.shape[1]\n",
        "n_dim"
      ],
      "execution_count": 8,
      "outputs": [
        {
          "output_type": "execute_result",
          "data": {
            "text/plain": [
              "48083"
            ]
          },
          "metadata": {
            "tags": []
          },
          "execution_count": 8
        }
      ]
    },
    {
      "cell_type": "code",
      "metadata": {
        "id": "QriQqOIGfCg3",
        "outputId": "f18537b9-e322-40a7-9d62-f9322c611abb",
        "colab": {
          "base_uri": "https://localhost:8080/"
        }
      },
      "source": [
        "print(np.min(tfidf_matrix))\n",
        "print(np.max(tfidf_matrix))\n",
        "print(np.std(tfidf_matrix))"
      ],
      "execution_count": 9,
      "outputs": [
        {
          "output_type": "stream",
          "text": [
            "0.0\n",
            "1.0\n",
            "0.004559397919072302\n"
          ],
          "name": "stdout"
        }
      ]
    },
    {
      "cell_type": "code",
      "metadata": {
        "id": "aybpAhxYaC3T",
        "outputId": "9eabc9e6-e712-40a9-e2d1-bdfc9ebe8517",
        "colab": {
          "base_uri": "https://localhost:8080/"
        }
      },
      "source": [
        "autoencoder = Autoencoder(latent_dim, n_dim) \n",
        "autoencoder.compile(optimizer='adam', loss='mae', metrics=['mae', 'mse'])\n",
        "n_epochs = 15\n",
        "autoencoder.fit(tfidf_matrix_train, tfidf_matrix_train,\n",
        "                epochs=n_epochs,\n",
        "                shuffle=True,\n",
        "                batch_size=512,\n",
        "                validation_data=(tfidf_matrix_test, tfidf_matrix_test))\n"
      ],
      "execution_count": 10,
      "outputs": [
        {
          "output_type": "stream",
          "text": [
            "Epoch 1/15\n",
            "40/40 [==============================] - 3s 80ms/step - loss: 0.4958 - mae: 0.4958 - mse: 0.2459 - val_loss: 0.4902 - val_mae: 0.4902 - val_mse: 0.2403\n",
            "Epoch 2/15\n",
            "40/40 [==============================] - 3s 68ms/step - loss: 0.4740 - mae: 0.4740 - mse: 0.2249 - val_loss: 0.4400 - val_mae: 0.4400 - val_mse: 0.1937\n",
            "Epoch 3/15\n",
            "40/40 [==============================] - 3s 67ms/step - loss: 0.3637 - mae: 0.3637 - mse: 0.1352 - val_loss: 0.2679 - val_mae: 0.2679 - val_mse: 0.0729\n",
            "Epoch 4/15\n",
            "40/40 [==============================] - 3s 68ms/step - loss: 0.1739 - mae: 0.1739 - mse: 0.0336 - val_loss: 0.1082 - val_mae: 0.1082 - val_mse: 0.0131\n",
            "Epoch 5/15\n",
            "40/40 [==============================] - 3s 68ms/step - loss: 0.0673 - mae: 0.0673 - mse: 0.0056 - val_loss: 0.0499 - val_mae: 0.0499 - val_mse: 0.0033\n",
            "Epoch 6/15\n",
            "40/40 [==============================] - 3s 68ms/step - loss: 0.0329 - mae: 0.0329 - mse: 0.0015 - val_loss: 0.0293 - val_mae: 0.0293 - val_mse: 0.0013\n",
            "Epoch 7/15\n",
            "40/40 [==============================] - 3s 68ms/step - loss: 0.0199 - mae: 0.0199 - mse: 6.0066e-04 - val_loss: 0.0199 - val_mae: 0.0199 - val_mse: 6.8648e-04\n",
            "Epoch 8/15\n",
            "40/40 [==============================] - 3s 69ms/step - loss: 0.0136 - mae: 0.0136 - mse: 3.1131e-04 - val_loss: 0.0147 - val_mae: 0.0147 - val_mse: 4.2376e-04\n",
            "Epoch 9/15\n",
            "40/40 [==============================] - 3s 69ms/step - loss: 0.0100 - mae: 0.0100 - mse: 1.8729e-04 - val_loss: 0.0114 - val_mae: 0.0114 - val_mse: 2.8918e-04\n",
            "Epoch 10/15\n",
            "40/40 [==============================] - 3s 69ms/step - loss: 0.0078 - mae: 0.0078 - mse: 1.2499e-04 - val_loss: 0.0092 - val_mae: 0.0092 - val_mse: 2.1174e-04\n",
            "Epoch 11/15\n",
            "40/40 [==============================] - 3s 68ms/step - loss: 0.0062 - mae: 0.0062 - mse: 8.9866e-05 - val_loss: 0.0077 - val_mae: 0.0077 - val_mse: 1.6342e-04\n",
            "Epoch 12/15\n",
            "40/40 [==============================] - 3s 68ms/step - loss: 0.0051 - mae: 0.0051 - mse: 6.9033e-05 - val_loss: 0.0065 - val_mae: 0.0065 - val_mse: 1.3160e-04\n",
            "Epoch 13/15\n",
            "40/40 [==============================] - 3s 69ms/step - loss: 0.0043 - mae: 0.0043 - mse: 5.5769e-05 - val_loss: 0.0056 - val_mae: 0.0056 - val_mse: 1.0935e-04\n",
            "Epoch 14/15\n",
            "40/40 [==============================] - 3s 69ms/step - loss: 0.0036 - mae: 0.0036 - mse: 4.6821e-05 - val_loss: 0.0049 - val_mae: 0.0049 - val_mse: 9.3342e-05\n",
            "Epoch 15/15\n",
            "40/40 [==============================] - 3s 67ms/step - loss: 0.0032 - mae: 0.0032 - mse: 4.0606e-05 - val_loss: 0.0043 - val_mae: 0.0043 - val_mse: 8.1378e-05\n"
          ],
          "name": "stdout"
        },
        {
          "output_type": "execute_result",
          "data": {
            "text/plain": [
              "<tensorflow.python.keras.callbacks.History at 0x7f508a490668>"
            ]
          },
          "metadata": {
            "tags": []
          },
          "execution_count": 10
        }
      ]
    },
    {
      "cell_type": "code",
      "metadata": {
        "id": "HwO8QpynaFUo",
        "outputId": "cf4e1a59-d95c-405d-c66c-f150439fdb52",
        "colab": {
          "base_uri": "https://localhost:8080/"
        }
      },
      "source": [
        "autoencoder.summary()\n",
        "\n",
        "for key in autoencoder.history.history:\n",
        "    print(key)"
      ],
      "execution_count": 11,
      "outputs": [
        {
          "output_type": "stream",
          "text": [
            "Model: \"autoencoder\"\n",
            "_________________________________________________________________\n",
            "Layer (type)                 Output Shape              Param #   \n",
            "=================================================================\n",
            "encoder (Sequential)         (None, 20)                961680    \n",
            "_________________________________________________________________\n",
            "decoder (Sequential)         (None, 48083)             1009743   \n",
            "=================================================================\n",
            "Total params: 1,971,423\n",
            "Trainable params: 1,971,423\n",
            "Non-trainable params: 0\n",
            "_________________________________________________________________\n",
            "loss\n",
            "mae\n",
            "mse\n",
            "val_loss\n",
            "val_mae\n",
            "val_mse\n"
          ],
          "name": "stdout"
        }
      ]
    },
    {
      "cell_type": "code",
      "metadata": {
        "id": "loVei8xNad5e",
        "outputId": "ba71a983-5f42-460a-ae27-40b3e825bc0d",
        "colab": {
          "base_uri": "https://localhost:8080/",
          "height": 337
        }
      },
      "source": [
        "fig, ax = plt.subplots(figsize=(5, 5))\n",
        "\n",
        "loss = autoencoder.history.history['loss']\n",
        "val_loss = autoencoder.history.history['val_loss']\n",
        "\n",
        "ax.plot(np.arange(n_epochs), loss, label='Training')\n",
        "ax.plot(np.arange(n_epochs), val_loss, label='Validation')\n",
        "\n",
        "ax.legend()"
      ],
      "execution_count": 12,
      "outputs": [
        {
          "output_type": "execute_result",
          "data": {
            "text/plain": [
              "<matplotlib.legend.Legend at 0x7f508a38b160>"
            ]
          },
          "metadata": {
            "tags": []
          },
          "execution_count": 12
        },
        {
          "output_type": "display_data",
          "data": {
            "image/png": "[encoded data removed]",
            "text/plain": [
              "<Figure size 360x360 with 1 Axes>"
            ]
          },
          "metadata": {
            "tags": [],
            "needs_background": "light"
          }
        }
      ]
    },
    {
      "cell_type": "code",
      "metadata": {
        "id": "gH4JTon7afPn"
      },
      "source": [
        ""
      ],
      "execution_count": 12,
      "outputs": []
    }
  ]
}